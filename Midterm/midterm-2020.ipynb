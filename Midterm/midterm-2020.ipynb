{
 "cells": [
  {
   "cell_type": "markdown",
   "metadata": {},
   "source": [
    "# HDS5210-2020 Midterm\n",
    "\n",
    "In the midterm, you're going to focus on using the programming skills that you've developed so far to build a calculator for the Apache II scoring system for ICU Mortality.  \n",
    "* https://www.mdcalc.com/apache-ii-score#evidence\n",
    "* https://reference.medscape.com/calculator/apache-ii-scoring-system\n",
    "\n",
    "For the midterm, we'll be building a calculator for the Apache II score and then running that against a patient file that's available to you out on the internet.  This will be broken down into three main steps:\n",
    "1. Create your JSON file to encapsulate all of the calculation rules for Apache II\n",
    "2. Create functions to calculate the Apache II score using your JSON configuration\n",
    "3. Create a function to loop over the patients in a file on the internet and calculate Apach II scores for all of them\n",
    "\n"
   ]
  },
  {
   "cell_type": "markdown",
   "metadata": {},
   "source": [
    "---\n",
    "\n",
    "## Part 1: Creating a JSON Rules File\n",
    "\n",
    "Look at the rules for the Apache II scoring system on the pages above.  The first step in the midterm is to use those rules and create a JSON configuration file as described in the 2019 midterm video.  I've provided a starter file named `apache.json` to get you started.\n",
    "\n",
    "Inside that file, you'll find placeholders for all of the measures that go into the Apache II scoring model:\n",
    "* Organ Failure History\n",
    "* Age\n",
    "* Temperature\n",
    "* [pH](https://en.wikipedia.org/wiki/PH)\n",
    "* Heart rate\n",
    "* Respiratory rate\n",
    "* [Sodium](https://www.mayoclinic.org/diseases-conditions/hyponatremia/symptoms-causes/syc-20373711)\n",
    "* [Potassium](https://www.emedicinehealth.com/hyperkalemia/article_em.htm)\n",
    "* [Creatinine](https://www.medicalnewstoday.com/articles/322380)\n",
    "* [Hematocrit](https://labtestsonline.org/tests/hematocrit)\n",
    "* White Blood Count\n",
    "* [FiO2](https://www.ausmed.com/cpd/articles/oxygen-flow-rate-and-fio2)\n",
    "* [PaO2](https://www.verywellhealth.com/partial-pressure-of-oyxgen-pa02-914920)\n",
    "* [A-a gradient](https://www.ncbi.nlm.nih.gov/books/NBK545153/)\n",
    "\n",
    "\n",
    "You may need to create a sort of nested set of rules in some cases.  For instance, the rule for Creatinine says to use certain ranges and points in the case of Acute Renal Failure and a different set of points for Chronic Renal Failure.\n",
    "\n",
    "Similarly, the rule for FiO2 says to use PaO2 to calculate scores if the FiO2 is <50, and to use A-a Gradient if the PaO2 is >50.\n",
    "\n",
    "When you've created your `apache.json` file, make sure it's in the same directory as this notebook."
   ]
  },
  {
   "cell_type": "markdown",
   "metadata": {},
   "source": [
    "### Testing your JSON\n",
    "\n",
    "The assert() functions below should all run just fine.  If you want to change the names of any of the keys in the JSON I provided you, you may, but you'll also need to update this test code so that it doesn't fail.  Remember, your notebook should be able to run end-to-end before you submit it."
   ]
  },
  {
   "cell_type": "code",
   "execution_count": 1,
   "metadata": {},
   "outputs": [],
   "source": [
    "import json\n",
    "\n",
    "with open('apache.json') as f:\n",
    "    rules = json.load(f)"
   ]
  },
  {
   "cell_type": "code",
   "execution_count": 2,
   "metadata": {},
   "outputs": [
    {
     "data": {
      "text/plain": [
       "{'Organ Failure History': {'Nonoperative': 5,\n",
       "  'Emergency': 5,\n",
       "  'Elective': 2,\n",
       "  'None': 0},\n",
       " 'Age': [{'min': 0, 'max': 45, 'points': 0},\n",
       "  {'min': 45, 'max': 55, 'points': 2},\n",
       "  {'min': 55, 'max': 65, 'points': 3},\n",
       "  {'min': 65, 'max': 75, 'points': 5},\n",
       "  {'min': 75, 'max': 999, 'points': 6}],\n",
       " 'Temperature': [{'min': 41, 'max': 999, 'points': 4},\n",
       "  {'min': 39, 'max': 41, 'points': 3},\n",
       "  {'min': 38.5, 'max': 39, 'points': 1},\n",
       "  {'min': 36, 'max': 38.5, 'points': 0},\n",
       "  {'min': 34, 'max': 36, 'points': 1},\n",
       "  {'min': 32, 'max': 34, 'points': 2},\n",
       "  {'min': 30, 'max': 32, 'points': 3},\n",
       "  {'min': 0, 'max': 30, 'points': 4}],\n",
       " 'Heart Rate': [{'min': 180, 'max': 999, 'points': 4},\n",
       "  {'min': 140, 'max': 180, 'points': 3},\n",
       "  {'min': 110, 'max': 140, 'points': 2},\n",
       "  {'min': 70, 'max': 110, 'points': 0},\n",
       "  {'min': 55, 'max': 70, 'points': 2},\n",
       "  {'min': 40, 'max': 55, 'points': 3},\n",
       "  {'min': 0, 'max': 40, 'points': 4}],\n",
       " 'Respiratory Rate': [{'min': 50, 'max': 999, 'points': 4},\n",
       "  {'min': 35, 'max': 50, 'points': 3},\n",
       "  {'min': 25, 'max': 35, 'points': 1},\n",
       "  {'min': 12, 'max': 25, 'points': 0},\n",
       "  {'min': 10, 'max': 12, 'points': 1},\n",
       "  {'min': 6, 'max': 10, 'points': 2},\n",
       "  {'min': 0, 'max': 6, 'points': 4}],\n",
       " 'FiO2': [{'min': 0,\n",
       "   'max': 50,\n",
       "   'PaO2': [{'min': 0, 'max': 55, 'points': 4},\n",
       "    {'min': 55, 'max': 61, 'points': 3},\n",
       "    {'min': 61, 'max': 71, 'points': 1}]},\n",
       "  {'min': 50,\n",
       "   'max': 100,\n",
       "   'A-a gradient': [{'min': 499, 'max': 999, 'points': 4},\n",
       "    {'min': 350, 'max': 500, 'points': 3},\n",
       "    {'min': 200, 'max': 350, 'points': 2},\n",
       "    {'min': 0, 'max': 200, 'points': 0}]}],\n",
       " 'pH': [{'min': 7.7, 'max': 999, 'points': 4},\n",
       "  {'min': 7.6, 'max': 7.7, 'points': 3},\n",
       "  {'min': 7.5, 'max': 7.6, 'points': 1},\n",
       "  {'min': 7.33, 'max': 7.5, 'points': 0},\n",
       "  {'min': 7.25, 'max': 7.33, 'points': 2},\n",
       "  {'min': 7.15, 'max': 7.25, 'points': 3},\n",
       "  {'min': 0, 'max': 7.15, 'points': 4}],\n",
       " 'Sodium': [{'min': 180, 'max': 999, 'points': 4},\n",
       "  {'min': 160, 'max': 180, 'points': 3},\n",
       "  {'min': 155, 'max': 160, 'points': 2},\n",
       "  {'min': 150, 'max': 155, 'points': 1},\n",
       "  {'min': 130, 'max': 150, 'points': 0},\n",
       "  {'min': 120, 'max': 130, 'points': 2},\n",
       "  {'min': 111, 'max': 120, 'points': 3},\n",
       "  {'min': 0, 'max': 110, 'points': 4}],\n",
       " 'Potassium': [{'min': 7, 'max': 999, 'points': 4},\n",
       "  {'min': 6, 'max': 7, 'points': 3},\n",
       "  {'min': 5.5, 'max': 6, 'points': 1},\n",
       "  {'min': 3.5, 'max': 5.5, 'points': 0},\n",
       "  {'min': 3, 'max': 3.5, 'points': 1},\n",
       "  {'min': 2.5, 'max': 3, 'points': 2},\n",
       "  {'min': 0, 'max': 2.5, 'points': 4}],\n",
       " 'Creatinine': {'Acute Renal Failure': [{'min': 3.5, 'max': 999, 'points': 8},\n",
       "   {'min': 2, 'max': 3.5, 'points': 6},\n",
       "   {'min': 1.5, 'max': 2, 'points': 4},\n",
       "   {'min': 0.6, 'max': 1.5, 'points': 0},\n",
       "   {'min': 0, 'max': 0.6, 'points': 2}],\n",
       "  'Chronic Renal Failure': [{'min': 3.5, 'max': 999, 'points': 4},\n",
       "   {'min': 2, 'max': 3.5, 'points': 3},\n",
       "   {'min': 1.5, 'max': 2, 'points': 2},\n",
       "   {'min': 0.6, 'max': 1.5, 'points': 0},\n",
       "   {'min': 0, 'max': 0.6, 'points': 2}]},\n",
       " 'Hematocrit': [{'min': 60, 'max': 100, 'points': 4},\n",
       "  {'min': 50, 'max': 60, 'points': 2},\n",
       "  {'min': 46, 'max': 50, 'points': 1},\n",
       "  {'min': 30, 'max': 46, 'points': 0},\n",
       "  {'min': 20, 'max': 30, 'points': 2},\n",
       "  {'min': 0, 'max': 20, 'points': 4}],\n",
       " 'White Blood Count': [{'min': 40, 'max': 100, 'points': 4},\n",
       "  {'min': 20, 'max': 40, 'points': 2},\n",
       "  {'min': 15, 'max': 20, 'points': 1},\n",
       "  {'min': 3, 'max': 15, 'points': 0},\n",
       "  {'min': 1, 'max': 3, 'points': 2},\n",
       "  {'min': 0, 'max': 1, 'points': 4}]}"
      ]
     },
     "execution_count": 2,
     "metadata": {},
     "output_type": "execute_result"
    }
   ],
   "source": [
    "rules"
   ]
  },
  {
   "cell_type": "code",
   "execution_count": 3,
   "metadata": {},
   "outputs": [],
   "source": [
    "import json\n",
    "\n",
    "with open('apache.json') as f:\n",
    "    rules = json.load(f)\n",
    "\n",
    "assert('Organ Failure History' in rules.keys())\n",
    "assert('Age' in rules.keys())\n",
    "assert('Temperature' in rules.keys())\n",
    "assert('pH' in rules.keys())\n",
    "assert('Heart Rate' in rules.keys())\n",
    "assert('Respiratory Rate' in rules.keys())\n",
    "assert('Sodium' in rules.keys())\n",
    "assert('Potassium' in rules.keys())\n",
    "assert('Creatinine' in rules.keys())\n",
    "assert('Hematocrit' in rules.keys())\n",
    "assert('White Blood Count' in rules.keys())\n",
    "assert('FiO2' in rules.keys())"
   ]
  },
  {
   "cell_type": "markdown",
   "metadata": {},
   "source": [
    "---\n",
    "\n",
    "## Part 2: Functions to evaluate rules\n",
    "\n",
    "Write a series of functions, enough to satisfy all of the main criteria that we're using to calculate the Apache II score.  That list is the same as the assert statements above.\n",
    "\n",
    "* Each of your functions should be well documented.\n",
    "* Each function should have \"config_file\" as one of it's parameters.\n",
    "* Each function should return a numerical score value.\n",
    "* Similar to what we discussed in the review, if you can generalize some rules, do so.  You should **NOT** end up with one function for each input variable.  If you did that, you'd have a lot of repetative code.\n",
    "\n",
    "The Glasgow Coma Scale is simply a 1-to-1 score translation.  Simply add the Glasgow Coma Scale value.  So, you don't need to write a function for this. [Glasgow Coma Scale](https://www.cdc.gov/masstrauma/resources/gcs.pdf)\n",
    "\n",
    "**CORRECTION ADDED 2/29** - The Glasgow Coma Scale points should be calculated as `1 - Glasgow Coma Scale` rather than what I just stated above.  My preference would be that you do the calculation correctly, as per MDCalc, and then use the **corrected** scores files to compare against as noted in Part 4."
   ]
  },
  {
   "cell_type": "markdown",
   "metadata": {},
   "source": [
    "## #2A - Organ Failure History"
   ]
  },
  {
   "cell_type": "code",
   "execution_count": 4,
   "metadata": {},
   "outputs": [],
   "source": [
    "import json\n",
    "\n",
    "def Organ_Failure_History_score(organ_failure_list,config_file):\n",
    "    score=0\n",
    "    config = json.load(open(config_file))\n",
    "    organ_failure_scores= config.get(\"Organ Failure History\")\n",
    "    for organ_failure in organ_failure_list:\n",
    "        if organ_failure in organ_failure_scores:\n",
    "            score += organ_failure_scores.get(organ_failure)\n",
    "    \n",
    "    return score"
   ]
  },
  {
   "cell_type": "code",
   "execution_count": 5,
   "metadata": {},
   "outputs": [],
   "source": [
    "Organ_Failure_History_CONFIG_FILE = \"apache.json\""
   ]
  },
  {
   "cell_type": "code",
   "execution_count": 387,
   "metadata": {},
   "outputs": [],
   "source": [
    "assert(Organ_Failure_History_score( [\"Elective\"],Organ_Failure_History_CONFIG_FILE)==2)"
   ]
  },
  {
   "cell_type": "markdown",
   "metadata": {},
   "source": [
    "# 2B - Age"
   ]
  },
  {
   "cell_type": "code",
   "execution_count": 7,
   "metadata": {},
   "outputs": [],
   "source": [
    "import json\n",
    "\n",
    "def Age_score(Age,config_file):\n",
    "    \n",
    "    score=0\n",
    "    config = json.load(open(config_file))\n",
    "    Age_rules= config.get(\"Age\")\n",
    "    for rule in Age_rules:\n",
    "        if float(Age) >= rule.get('min') and float(Age) < rule.get('max'):\n",
    "            score = rule.get('points')\n",
    "    \n",
    "    return score"
   ]
  },
  {
   "cell_type": "code",
   "execution_count": 8,
   "metadata": {},
   "outputs": [],
   "source": [
    "Age_CONFIG_FILE = \"apache.json\""
   ]
  },
  {
   "cell_type": "code",
   "execution_count": 389,
   "metadata": {},
   "outputs": [],
   "source": [
    "assert(Age_score(6,  Age_CONFIG_FILE)==0)"
   ]
  },
  {
   "cell_type": "markdown",
   "metadata": {},
   "source": [
    "# 2C - Temperature"
   ]
  },
  {
   "cell_type": "code",
   "execution_count": 10,
   "metadata": {},
   "outputs": [],
   "source": [
    "import json\n",
    "\n",
    "def Temperature_score(Temperature,config_file):\n",
    "    score=0\n",
    "    config = json.load(open(config_file))\n",
    "    Temperature_rules= config.get(\"Temperature\")\n",
    "    for rule in Temperature_rules:\n",
    "        if float(Temperature) >= rule.get('min') and float(Temperature) < rule.get('max'):\n",
    "            score = rule.get('points')\n",
    "    \n",
    "    return score"
   ]
  },
  {
   "cell_type": "code",
   "execution_count": 11,
   "metadata": {},
   "outputs": [],
   "source": [
    "Temperature_CONFIG_FILE = \"apache.json\""
   ]
  },
  {
   "cell_type": "code",
   "execution_count": 390,
   "metadata": {},
   "outputs": [],
   "source": [
    "assert(Temperature_score(27,Temperature_CONFIG_FILE)==4)"
   ]
  },
  {
   "cell_type": "markdown",
   "metadata": {},
   "source": [
    "# 2D - Heart Rate"
   ]
  },
  {
   "cell_type": "code",
   "execution_count": 13,
   "metadata": {},
   "outputs": [],
   "source": [
    "import json\n",
    "\n",
    "def Heart_Rate_score(Heart_Rate,config_file):\n",
    "    score=0\n",
    "    config = json.load(open(config_file))\n",
    "    Heart_Rate_rules= config.get(\"Heart Rate\")\n",
    "    for rule in Heart_Rate_rules:\n",
    "        if float(Heart_Rate) >= rule.get('min') and float(Heart_Rate) < rule.get('max'):\n",
    "            score = rule.get('points')\n",
    "    \n",
    "    return score"
   ]
  },
  {
   "cell_type": "code",
   "execution_count": 14,
   "metadata": {},
   "outputs": [],
   "source": [
    "Heart_Rate_CONFIG_FILE = \"apache.json\""
   ]
  },
  {
   "cell_type": "code",
   "execution_count": 391,
   "metadata": {},
   "outputs": [],
   "source": [
    "assert(Heart_Rate_score(174,Heart_Rate_CONFIG_FILE)==3)"
   ]
  },
  {
   "cell_type": "markdown",
   "metadata": {},
   "source": [
    "# 2E - Respiratory Rate"
   ]
  },
  {
   "cell_type": "code",
   "execution_count": 16,
   "metadata": {},
   "outputs": [],
   "source": [
    "import json\n",
    "\n",
    "def Respiratory_Rate_score(Respiratory_Rate,config_file):\n",
    "    score=0\n",
    "    config = json.load(open(config_file))\n",
    "    Respiratory_Rate_rules= config.get(\"Respiratory Rate\")\n",
    "    for rule in Respiratory_Rate_rules:\n",
    "        if float(Respiratory_Rate) >= rule.get('min') and float(Respiratory_Rate) < rule.get('max'):\n",
    "            score = rule.get('points')\n",
    "    \n",
    "    return score"
   ]
  },
  {
   "cell_type": "code",
   "execution_count": 17,
   "metadata": {},
   "outputs": [],
   "source": [
    "Respiratory_Rate_CONFIG_FILE = \"apache.json\""
   ]
  },
  {
   "cell_type": "code",
   "execution_count": 392,
   "metadata": {},
   "outputs": [],
   "source": [
    "assert(Respiratory_Rate_score(10,Respiratory_Rate_CONFIG_FILE)==1)"
   ]
  },
  {
   "cell_type": "markdown",
   "metadata": {},
   "source": [
    "# 2F - Oxygenation"
   ]
  },
  {
   "cell_type": "code",
   "execution_count": 19,
   "metadata": {},
   "outputs": [],
   "source": [
    "import json\n",
    "\n",
    "def Oxygenation_score(FiO2,PaO2,Agradient,config_file):\n",
    "    score = 0\n",
    "    config = json.load(open(config_file))\n",
    "    rules = config.get(\"FiO2\")\n",
    "    if  float(FiO2) >= rules[0].get('min') and float(FiO2) <rules[0].get('max'):\n",
    "            PaO2_rules = rules[0].get('PaO2')\n",
    "            for PaO2_rule in PaO2_rules:\n",
    "                if float(PaO2) >=PaO2_rule.get('min') and float(PaO2) < PaO2_rule.get('max'):\n",
    "                    score = PaO2_rule.get('points')\n",
    "       \n",
    "    elif  float(FiO2) >= rules[1].get('min') and  float(FiO2) <rules[1].get('max'):\n",
    "            Agradient_rules = rules[1].get('A-a gradient')\n",
    "            for Agradient_rule in Agradient_rules:\n",
    "                if float(Agradient) >=Agradient_rule.get('min') and float(Agradient) < Agradient_rule.get('max'):\n",
    "                    score = Agradient_rule.get('points')\n",
    "    \n",
    "   \n",
    "    \n",
    "\n",
    "    return score"
   ]
  },
  {
   "cell_type": "code",
   "execution_count": 20,
   "metadata": {},
   "outputs": [],
   "source": [
    "PaO2_CONFIG_FILE = \"apache.json\""
   ]
  },
  {
   "cell_type": "code",
   "execution_count": 393,
   "metadata": {},
   "outputs": [],
   "source": [
    "assert(Oxygenation_score(61,59,458,PaO2_CONFIG_FILE)==3)"
   ]
  },
  {
   "cell_type": "markdown",
   "metadata": {},
   "source": [
    "# 2G - pH"
   ]
  },
  {
   "cell_type": "code",
   "execution_count": 22,
   "metadata": {},
   "outputs": [],
   "source": [
    "import json\n",
    "\n",
    "def pH_score(pH,config_file):\n",
    "    score=0\n",
    "    config = json.load(open(config_file))\n",
    "    pH_rules= config.get(\"pH\")\n",
    "    for rule in pH_rules:\n",
    "        if float(pH) >= rule.get('min') and float(pH) < rule.get('max'):\n",
    "            score = rule.get('points')\n",
    "    \n",
    "    return score"
   ]
  },
  {
   "cell_type": "code",
   "execution_count": 23,
   "metadata": {},
   "outputs": [],
   "source": [
    "pH_CONFIG_FILE = \"apache.json\""
   ]
  },
  {
   "cell_type": "code",
   "execution_count": 394,
   "metadata": {},
   "outputs": [],
   "source": [
    "assert(pH_score(7.3,pH_CONFIG_FILE)==2)"
   ]
  },
  {
   "cell_type": "markdown",
   "metadata": {},
   "source": [
    "# 2H - Sodium"
   ]
  },
  {
   "cell_type": "code",
   "execution_count": 25,
   "metadata": {},
   "outputs": [],
   "source": [
    "import json\n",
    "\n",
    "def Sodium_score(Sodium,config_file):\n",
    "    score=0\n",
    "    config = json.load(open(config_file))\n",
    "    Sodium_rules= config.get(\"Sodium\")\n",
    "    for rule in Sodium_rules:\n",
    "        if float(Sodium) >= rule.get('min') and float(Sodium) < rule.get('max'):\n",
    "            score = rule.get('points')\n",
    "    \n",
    "    return score"
   ]
  },
  {
   "cell_type": "code",
   "execution_count": 26,
   "metadata": {},
   "outputs": [],
   "source": [
    "Sodium_CONFIG_FILE = \"apache.json\""
   ]
  },
  {
   "cell_type": "code",
   "execution_count": 395,
   "metadata": {},
   "outputs": [],
   "source": [
    "assert(Sodium_score(170,Sodium_CONFIG_FILE)==3)"
   ]
  },
  {
   "cell_type": "markdown",
   "metadata": {},
   "source": [
    "# 2I- Potassium"
   ]
  },
  {
   "cell_type": "code",
   "execution_count": 28,
   "metadata": {},
   "outputs": [],
   "source": [
    "import json\n",
    "\n",
    "def Potassium_score(Potassium,config_file):\n",
    "    score=0\n",
    "    config = json.load(open(config_file))\n",
    "    Potassium_rules= config.get(\"Potassium\")\n",
    "    for rule in Potassium_rules:\n",
    "        if float(Potassium) >= rule.get('min') and float(Potassium) < rule.get('max'):\n",
    "            score = rule.get('points')\n",
    "    \n",
    "    return score"
   ]
  },
  {
   "cell_type": "code",
   "execution_count": 29,
   "metadata": {},
   "outputs": [],
   "source": [
    "Potassium_CONFIG_FILE = \"apache.json\""
   ]
  },
  {
   "cell_type": "code",
   "execution_count": 396,
   "metadata": {},
   "outputs": [],
   "source": [
    "assert(Potassium_score(7.8,Potassium_CONFIG_FILE)==4)"
   ]
  },
  {
   "cell_type": "markdown",
   "metadata": {},
   "source": [
    "# 2J -Creatinine"
   ]
  },
  {
   "cell_type": "code",
   "execution_count": 31,
   "metadata": {},
   "outputs": [],
   "source": [
    "import json\n",
    "\n",
    "def Creatinine_score(Creatinine,Renal_Failure,config_file):\n",
    "    score=0\n",
    "    config = json.load(open(config_file))\n",
    "    if Renal_Failure==\"Acute Renal Failure\":\n",
    "        Creatinine_rules= config.get(\"Creatinine\").get(\"Acute Renal Failure\")\n",
    "    elif Renal_Failure==\"Chronic Renal Failure\":\n",
    "        Creatinine_rules= config.get(\"Creatinine\").get(\"Chronic Renal Failure\")\n",
    "    for rule in Creatinine_rules:\n",
    "        if float(Creatinine)>= rule.get('min') and float(Creatinine) < rule.get('max'):\n",
    "            score = rule.get('points')\n",
    "    \n",
    "    return score"
   ]
  },
  {
   "cell_type": "code",
   "execution_count": 32,
   "metadata": {},
   "outputs": [],
   "source": [
    "Creatinine_CONFIG_FILE = \"apache.json\""
   ]
  },
  {
   "cell_type": "code",
   "execution_count": 397,
   "metadata": {},
   "outputs": [],
   "source": [
    "assert(Creatinine_score(1.6,\"Chronic Renal Failure\",Creatinine_CONFIG_FILE)==2)"
   ]
  },
  {
   "cell_type": "markdown",
   "metadata": {},
   "source": [
    "# 2K -Hematocrit"
   ]
  },
  {
   "cell_type": "code",
   "execution_count": 34,
   "metadata": {},
   "outputs": [],
   "source": [
    "import json\n",
    "\n",
    "def Hematocrit_score(Hematocrit,config_file):\n",
    "    score=0\n",
    "    config = json.load(open(config_file))\n",
    "    Hematocrit_rules= config.get(\"Hematocrit\")\n",
    "    for rule in Hematocrit_rules:\n",
    "        if float(Hematocrit) >= rule.get('min') and float(Hematocrit) < rule.get('max'):\n",
    "            score = rule.get('points')\n",
    "    \n",
    "    return score"
   ]
  },
  {
   "cell_type": "code",
   "execution_count": 35,
   "metadata": {},
   "outputs": [],
   "source": [
    "Hematocrit_CONFIG_FILE = \"apache.json\""
   ]
  },
  {
   "cell_type": "code",
   "execution_count": 398,
   "metadata": {},
   "outputs": [],
   "source": [
    "assert(Hematocrit_score(3,Hematocrit_CONFIG_FILE)==4)"
   ]
  },
  {
   "cell_type": "markdown",
   "metadata": {},
   "source": [
    "# 2L -White Blood Count"
   ]
  },
  {
   "cell_type": "code",
   "execution_count": 37,
   "metadata": {},
   "outputs": [],
   "source": [
    "import json\n",
    "\n",
    "def White_Blood_score(White_Blood,config_file):\n",
    "    score=0\n",
    "    config = json.load(open(config_file))\n",
    "    White_Blood_rules= config.get(\"White Blood Count\")\n",
    "    for rule in White_Blood_rules:\n",
    "        if float(White_Blood) >= rule.get('min') and float(White_Blood) < rule.get('max'):\n",
    "            score = rule.get('points')\n",
    "    \n",
    "    return score"
   ]
  },
  {
   "cell_type": "code",
   "execution_count": 38,
   "metadata": {},
   "outputs": [],
   "source": [
    "White_Blood_CONFIG_FILE = \"apache.json\""
   ]
  },
  {
   "cell_type": "code",
   "execution_count": 399,
   "metadata": {},
   "outputs": [],
   "source": [
    "assert(White_Blood_score(28,White_Blood_CONFIG_FILE)==2)"
   ]
  },
  {
   "cell_type": "markdown",
   "metadata": {},
   "source": [
    "### Testing you Functions\n",
    "\n",
    "Write enough test cases to verify that your functions work for evaulating all of the scoring inputs.  Have at least 3 test cases for each input.\n",
    "\n",
    "These tests can be written the same as the assertions we've use in previous assignments.  For example, if you a function for `temperature_score` then you write a test case like:\n",
    "\n",
    "```\n",
    "assert( temperature_score(37) == 0 )\n",
    "```"
   ]
  },
  {
   "cell_type": "code",
   "execution_count": null,
   "metadata": {},
   "outputs": [],
   "source": []
  },
  {
   "cell_type": "markdown",
   "metadata": {},
   "source": [
    "---\n",
    "\n",
    "## Part 3: Put it all together\n",
    "\n",
    "Create a new function called `apache_score()` that takes all of the necessary inputs and returns the final Apache II score.  Use any variable names that you want.  For clarity and organization, my recommendation is to create them in the same order as they're documented in the website.\n",
    "\n",
    "1. Organ Failure History\n",
    "2. Age\n",
    "3. Temperature\n",
    "4. pH \n",
    "5. Heart rate\n",
    "6. Respiratory rate\n",
    "7. Sodium\n",
    "8. Potassium\n",
    "9. Creatinine\n",
    "10. Acute renal failure\n",
    "11. Hematocrit\n",
    "12. White Blood Count\n",
    "13. Glasgow Coma Scale\n",
    "14. FiO2\n",
    "15. PaO2\n",
    "16. A-a gradient\n"
   ]
  },
  {
   "cell_type": "code",
   "execution_count": 93,
   "metadata": {},
   "outputs": [],
   "source": [
    "def apache_score(organ_failure_list,Age,Temperature,Heart_Rate,Respiratory_Rate,FiO2,PaO2,\n",
    "                Agradient,pH,Sodium,Potassium,Creatinine,Renal_Failure,Hematocrit,White_Blood,Glasgow_Coma_Scale):\n",
    "    score = 0\n",
    "    \n",
    "    config_file = \"apache.json\"\n",
    "    score += Organ_Failure_History_score(organ_failure_list,config_file)\n",
    "    score += Age_score(Age,config_file)\n",
    "    score += Temperature_score(Temperature,config_file)\n",
    "    score += Heart_Rate_score(Heart_Rate,config_file)\n",
    "    score += Respiratory_Rate_score(Respiratory_Rate,config_file)\n",
    "    score += Oxygenation_score(FiO2,PaO2,Agradient,config_file)\n",
    "    score += pH_score(pH,config_file)\n",
    "    score += Sodium_score(Sodium,config_file)\n",
    "    score += Potassium_score(Potassium,config_file)\n",
    "    score += Creatinine_score(Creatinine,Renal_Failure,config_file)\n",
    "    score += Hematocrit_score(Hematocrit,config_file)\n",
    "    score += White_Blood_score(White_Blood,config_file)\n",
    "    score += float(Glasgow_Coma_Scale)\n",
    "    \n",
    "    \n",
    "    return score\n"
   ]
  },
  {
   "cell_type": "markdown",
   "metadata": {},
   "source": [
    "### Testing your Function\n",
    "\n",
    "Write a few test cases to make sure that your code functions correctly.  In the last step, you'll have LOTS of test cases run through, but you should do some of your before moving on."
   ]
  },
  {
   "cell_type": "code",
   "execution_count": 462,
   "metadata": {},
   "outputs": [],
   "source": [
    "assert(apache_score([\"None\"],51,7,97,30,28,70,\n",
    "               460,8,10,3.6,1.4,\"Chronic Renal Failure\",48,41,14)==35.0)"
   ]
  },
  {
   "cell_type": "markdown",
   "metadata": {},
   "source": [
    "---\n",
    "\n",
    "## Part 4: Accessing and processing the patient file\n",
    "\n",
    "Fill out the simple function below to retrieve the patient data as a CSV file from any given URL and return a list of all of the Apache II scores based on the data you find for those patients.\n",
    "* The patient file will be a CSV\n",
    "* It will have column headers that match the labels shown above\n",
    "* The columns will not necessarily appear in the order shown above\n",
    "* You should output only the Apache II scores, not any other information\n",
    "* Your output should be a list in the same order as the input rows"
   ]
  },
  {
   "cell_type": "code",
   "execution_count": 442,
   "metadata": {},
   "outputs": [],
   "source": [
    "import requests\n",
    "import json\n",
    "import csv\n",
    "with open('Scores_new.csv') as a:\n",
    "    A=[]\n",
    "    s = list(csv.reader(a))\n",
    "    for i in range(1,len(s)):\n",
    "        A.append(s[i])"
   ]
  },
  {
   "cell_type": "code",
   "execution_count": 443,
   "metadata": {},
   "outputs": [],
   "source": [
    "Answer=[]\n",
    "for j in A:\n",
    "    Answer.append(float(j[0]))\n",
    "    "
   ]
  },
  {
   "cell_type": "code",
   "execution_count": 444,
   "metadata": {},
   "outputs": [],
   "source": [
    "import json\n",
    "import requests\n",
    "import csv\n",
    "\n",
    "\n",
    "with open('TestPatients_new.csv') as f:\n",
    "    r = csv.reader(f)\n",
    "    #next(r, None)\n",
    "    r=list(r)\n",
    "    z=r.pop(0)\n",
    "    t=r[60]\n",
    "    scores=[]\n",
    "    for line in r:\n",
    "        organ_failure_list = line[1]\n",
    "        Age = line[2]  \n",
    "        Temperature = line[3]\n",
    "        pH = line[4]\n",
    "        Heart_Rate = line[5]\n",
    "        Respiratory_Rate = line[6]  \n",
    "        Sodium = line[7]\n",
    "        Potassium = line[8]  \n",
    "        Creatinine= line[9]\n",
    "        Renal_Failure = line[10]  \n",
    "        Hematocrit = line[11]\n",
    "        White_Blood = line[12]  \n",
    "        Glasgow_Coma_Scale = line[13]\n",
    "        FiO2 = line[14]  \n",
    "        PaO2 = line[15]\n",
    "        Agradient = line[16]  \n",
    "        score = apache_score([organ_failure_list],Age,Temperature,Heart_Rate,Respiratory_Rate,FiO2,PaO2,\n",
    "                Agradient,pH,Sodium,Potassium,Creatinine,Renal_Failure,Hematocrit,White_Blood,Glasgow_Coma_Scale)\n",
    "        scores.append(score)\n",
    "    \n",
    "    \n"
   ]
  },
  {
   "cell_type": "code",
   "execution_count": 459,
   "metadata": {},
   "outputs": [
    {
     "ename": "AssertionError",
     "evalue": "",
     "output_type": "error",
     "traceback": [
      "\u001b[0;31m---------------------------------------------------------------------------\u001b[0m",
      "\u001b[0;31mAssertionError\u001b[0m                            Traceback (most recent call last)",
      "\u001b[0;32m<ipython-input-459-45d45ceec0f3>\u001b[0m in \u001b[0;36m<module>\u001b[0;34m\u001b[0m\n\u001b[0;32m----> 1\u001b[0;31m \u001b[0;32massert\u001b[0m\u001b[0;34m(\u001b[0m\u001b[0mscores\u001b[0m \u001b[0;34m==\u001b[0m \u001b[0mAnswer\u001b[0m\u001b[0;34m)\u001b[0m\u001b[0;34m\u001b[0m\u001b[0;34m\u001b[0m\u001b[0m\n\u001b[0m",
      "\u001b[0;31mAssertionError\u001b[0m: "
     ]
    }
   ],
   "source": [
    "assert(scores == Answer)"
   ]
  },
  {
   "cell_type": "code",
   "execution_count": 438,
   "metadata": {},
   "outputs": [],
   "source": [
    "        organ_failure_list = t[1]\n",
    "        Age = t[2]  \n",
    "        Temperature = t[3]\n",
    "        pH = t[4]\n",
    "        Heart_Rate = t[5]\n",
    "        Respiratory_Rate = t[6]  \n",
    "        Sodium = t[7]\n",
    "        Potassium = t[8]  \n",
    "        Creatinine= t[9]\n",
    "        Renal_Failure = t[10]  \n",
    "        Hematocrit = t[11]\n",
    "        White_Blood = t[12]  \n",
    "        Glasgow_Coma_Scale = t[13]\n",
    "        FiO2 = t[14]  \n",
    "        PaO2 = t[15]\n",
    "        Agradient = t[16]  \n",
    "        score = apache_score([organ_failure_list],Age,Temperature,Heart_Rate,Respiratory_Rate,FiO2,PaO2,\n",
    "                Agradient,pH,Sodium,Potassium,Creatinine,Renal_Failure,Hematocrit,White_Blood,Glasgow_Coma_Scale)"
   ]
  },
  {
   "cell_type": "code",
   "execution_count": 439,
   "metadata": {},
   "outputs": [
    {
     "data": {
      "text/plain": [
       "35.0"
      ]
     },
     "execution_count": 439,
     "metadata": {},
     "output_type": "execute_result"
    }
   ],
   "source": [
    "score"
   ]
  },
  {
   "cell_type": "code",
   "execution_count": 451,
   "metadata": {},
   "outputs": [],
   "source": [
    "G=[]\n",
    "for x in range(0,len(scores)):\n",
    "    if scores[x] != Answer[x]:\n",
    "            G.append(x)"
   ]
  },
  {
   "cell_type": "code",
   "execution_count": 452,
   "metadata": {},
   "outputs": [
    {
     "data": {
      "text/plain": [
       "[82, 251]"
      ]
     },
     "execution_count": 452,
     "metadata": {},
     "output_type": "execute_result"
    }
   ],
   "source": [
    "G"
   ]
  },
  {
   "cell_type": "code",
   "execution_count": 455,
   "metadata": {},
   "outputs": [
    {
     "data": {
      "text/plain": [
       "38.0"
      ]
     },
     "execution_count": 455,
     "metadata": {},
     "output_type": "execute_result"
    }
   ],
   "source": [
    "scores[82]"
   ]
  },
  {
   "cell_type": "code",
   "execution_count": 456,
   "metadata": {},
   "outputs": [
    {
     "data": {
      "text/plain": [
       "42.0"
      ]
     },
     "execution_count": 456,
     "metadata": {},
     "output_type": "execute_result"
    }
   ],
   "source": [
    "Answer[82]"
   ]
  },
  {
   "cell_type": "code",
   "execution_count": 419,
   "metadata": {},
   "outputs": [],
   "source": [
    "import csv\n",
    "A=scores\n",
    "score_count=0\n",
    "with open('scores_edit.csv','w') as csvfile:\n",
    "    filednames=['Total']\n",
    "    thewriter=csv.DictWriter(csvfile,filednames)\n",
    "    thewriter.writeheader()\n",
    "    for score in A:\n",
    "        thewriter.writerow({'Total':score})\n",
    "    \n",
    "        \n"
   ]
  },
  {
   "cell_type": "markdown",
   "metadata": {},
   "source": [
    "### Testing your Function\n",
    "\n",
    "The URL for the test data is: https://hds5210-2020.s3.amazonaws.com/TestPatients.csv\n",
    "\n",
    "\n",
    "You can verify your results by comparing them against this data: https://hds5210-2020.s3.amazonaws.com/Scores.csv\n",
    "\n",
    "**CORRECTION ADDED 3/29** - If you calculated the Glasgow Coma Scale points as per the actual instructions in MDCalc, then please use this set of corrected scores to compare your results with: https://hds5210-2020.s3.amazonaws.com/Scores_corrected.csv\n"
   ]
  },
  {
   "cell_type": "code",
   "execution_count": null,
   "metadata": {},
   "outputs": [],
   "source": []
  },
  {
   "cell_type": "code",
   "execution_count": null,
   "metadata": {},
   "outputs": [],
   "source": []
  }
 ],
 "metadata": {
  "kernelspec": {
   "display_name": "Python 3",
   "language": "python",
   "name": "python3"
  },
  "language_info": {
   "codemirror_mode": {
    "name": "ipython",
    "version": 3
   },
   "file_extension": ".py",
   "mimetype": "text/x-python",
   "name": "python",
   "nbconvert_exporter": "python",
   "pygments_lexer": "ipython3",
   "version": "3.6.7"
  }
 },
 "nbformat": 4,
 "nbformat_minor": 4
}
